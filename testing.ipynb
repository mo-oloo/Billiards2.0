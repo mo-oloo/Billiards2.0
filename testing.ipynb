{
 "cells": [
  {
   "cell_type": "code",
   "execution_count": 1,
   "metadata": {},
   "outputs": [
    {
     "name": "stdout",
     "output_type": "stream",
     "text": [
      "0.5 None\n"
     ]
    }
   ],
   "source": [
    "# test finding the minimum time\n",
    "t = [(0.5, None), (4, 1), (3, 2), (4, 4)]\n",
    "t_min, i_min = min(t, key=lambda x: x[0])\n",
    "print(t_min, i_min)"
   ]
  },
  {
   "cell_type": "code",
   "execution_count": null,
   "metadata": {},
   "outputs": [],
   "source": [
    "from src.classes import Particle as pt\n",
    "from src.classes import Boundary as bd\n",
    "from src.classes import Scatterer as sc\n",
    "from src.classes import BilliardsSystem as BS\n",
    "import src.functions as Functions\n",
    "import numpy as np\n",
    "import pandas as pd"
   ]
  },
  {
   "cell_type": "code",
   "execution_count": 2,
   "metadata": {},
   "outputs": [
    {
     "ename": "NameError",
     "evalue": "name 'pt' is not defined",
     "output_type": "error",
     "traceback": [
      "\u001b[0;31m---------------------------------------------------------------------------\u001b[0m",
      "\u001b[0;31mNameError\u001b[0m                                 Traceback (most recent call last)",
      "Cell \u001b[0;32mIn[2], line 1\u001b[0m\n\u001b[0;32m----> 1\u001b[0m part \u001b[39m=\u001b[39m pt(\u001b[39m-\u001b[39m\u001b[39m2\u001b[39m, \u001b[39m-\u001b[39m\u001b[39m1\u001b[39m, \u001b[39m5.0\u001b[39m, \u001b[39m1.0\u001b[39m)\n\u001b[1;32m      3\u001b[0m tot_height \u001b[39m=\u001b[39m \u001b[39m6\u001b[39m\n\u001b[1;32m      4\u001b[0m tot_width \u001b[39m=\u001b[39m \u001b[39m6\u001b[39m\n",
      "\u001b[0;31mNameError\u001b[0m: name 'pt' is not defined"
     ]
    }
   ],
   "source": [
    "part = pt(-2, -1, 5.0, 1.0)\n",
    "\n",
    "tot_height = 6\n",
    "tot_width = 6\n",
    "bound = bd(tot_width, tot_height)\n",
    "\n",
    "scatterer0 = sc(0, 0, 1)\n",
    "scatterer1 = sc(3, 3, 1)\n",
    "scatterer2 = sc(3, -3, 1)\n",
    "scatterer3 = sc(-3, 3, 1)\n",
    "scatterer4 = sc(-3, -3, 1)\n",
    "\n",
    "scatterers = [scatterer0, scatterer1, scatterer2, scatterer3, scatterer4]\n",
    "\n",
    "billiards = BS(particle = part, \n",
    "                boundary = bound, \n",
    "                scatterers = scatterers)"
   ]
  },
  {
   "cell_type": "code",
   "execution_count": 3,
   "metadata": {},
   "outputs": [
    {
     "name": "stderr",
     "output_type": "stream",
     "text": [
      "/Users/dviray/Documents/Coding/Billiards2.0/src/classes.py:108: FutureWarning: The behavior of DataFrame concatenation with empty or all-NA entries is deprecated. In a future version, this will no longer exclude empty or all-NA columns when determining the result dtypes. To retain the old behavior, exclude the relevant entries before the concat operation.\n",
      "  self.data = pd.concat([self.data, pd.DataFrame(data=new_data)], ignore_index=True)\n",
      "/Users/dviray/Documents/Coding/Billiards2.0/src/classes.py:90: FutureWarning: The behavior of DataFrame concatenation with empty or all-NA entries is deprecated. In a future version, this will no longer exclude empty or all-NA columns when determining the result dtypes. To retain the old behavior, exclude the relevant entries before the concat operation.\n",
      "  self.data = pd.concat([self.data, pd.DataFrame(data=new_data)], ignore_index=True)\n"
     ]
    },
    {
     "data": {
      "text/html": [
       "<div>\n",
       "<style scoped>\n",
       "    .dataframe tbody tr th:only-of-type {\n",
       "        vertical-align: middle;\n",
       "    }\n",
       "\n",
       "    .dataframe tbody tr th {\n",
       "        vertical-align: top;\n",
       "    }\n",
       "\n",
       "    .dataframe thead th {\n",
       "        text-align: right;\n",
       "    }\n",
       "</style>\n",
       "<table border=\"1\" class=\"dataframe\">\n",
       "  <thead>\n",
       "    <tr style=\"text-align: right;\">\n",
       "      <th></th>\n",
       "      <th>time</th>\n",
       "      <th>n</th>\n",
       "      <th>x</th>\n",
       "      <th>y</th>\n",
       "      <th>vx</th>\n",
       "      <th>vy</th>\n",
       "      <th>scatterer_hit</th>\n",
       "      <th>theta</th>\n",
       "      <th>incidence_vector</th>\n",
       "    </tr>\n",
       "  </thead>\n",
       "  <tbody>\n",
       "    <tr>\n",
       "      <th>0</th>\n",
       "      <td>0.000000</td>\n",
       "      <td>0</td>\n",
       "      <td>-2.000000</td>\n",
       "      <td>-1.000000</td>\n",
       "      <td>0.980581</td>\n",
       "      <td>0.196116</td>\n",
       "      <td>None</td>\n",
       "      <td>NaN</td>\n",
       "      <td>None</td>\n",
       "    </tr>\n",
       "    <tr>\n",
       "      <th>1</th>\n",
       "      <td>1.348670</td>\n",
       "      <td>1</td>\n",
       "      <td>-0.677520</td>\n",
       "      <td>-0.735504</td>\n",
       "      <td>-0.115115</td>\n",
       "      <td>-0.993352</td>\n",
       "      <td>0</td>\n",
       "      <td>-2.315182</td>\n",
       "      <td>[0.9805806756909202, 0.19611613513818404]</td>\n",
       "    </tr>\n",
       "    <tr>\n",
       "      <th>2</th>\n",
       "      <td>3.628321</td>\n",
       "      <td>1</td>\n",
       "      <td>-0.939943</td>\n",
       "      <td>3.000000</td>\n",
       "      <td>-0.115115</td>\n",
       "      <td>-0.993352</td>\n",
       "      <td>None</td>\n",
       "      <td>NaN</td>\n",
       "      <td>None</td>\n",
       "    </tr>\n",
       "    <tr>\n",
       "      <th>3</th>\n",
       "      <td>9.668475</td>\n",
       "      <td>1</td>\n",
       "      <td>-1.635258</td>\n",
       "      <td>3.000000</td>\n",
       "      <td>-0.115115</td>\n",
       "      <td>-0.993352</td>\n",
       "      <td>None</td>\n",
       "      <td>NaN</td>\n",
       "      <td>None</td>\n",
       "    </tr>\n",
       "    <tr>\n",
       "      <th>4</th>\n",
       "      <td>15.038827</td>\n",
       "      <td>2</td>\n",
       "      <td>-2.253468</td>\n",
       "      <td>-2.334650</td>\n",
       "      <td>1.000000</td>\n",
       "      <td>0.000499</td>\n",
       "      <td>4</td>\n",
       "      <td>0.727962</td>\n",
       "      <td>[-0.11511539096736553, -0.9933521262686412]</td>\n",
       "    </tr>\n",
       "    <tr>\n",
       "      <th>...</th>\n",
       "      <td>...</td>\n",
       "      <td>...</td>\n",
       "      <td>...</td>\n",
       "      <td>...</td>\n",
       "      <td>...</td>\n",
       "      <td>...</td>\n",
       "      <td>...</td>\n",
       "      <td>...</td>\n",
       "      <td>...</td>\n",
       "    </tr>\n",
       "    <tr>\n",
       "      <th>237</th>\n",
       "      <td>733.025402</td>\n",
       "      <td>99</td>\n",
       "      <td>-0.943474</td>\n",
       "      <td>-0.331447</td>\n",
       "      <td>-0.856972</td>\n",
       "      <td>-0.515362</td>\n",
       "      <td>0</td>\n",
       "      <td>-2.803755</td>\n",
       "      <td>[0.9910027854056858, 0.13384124669985853]</td>\n",
       "    </tr>\n",
       "    <tr>\n",
       "      <th>238</th>\n",
       "      <td>735.425160</td>\n",
       "      <td>99</td>\n",
       "      <td>3.000000</td>\n",
       "      <td>-1.568192</td>\n",
       "      <td>-0.856972</td>\n",
       "      <td>-0.515362</td>\n",
       "      <td>None</td>\n",
       "      <td>NaN</td>\n",
       "      <td>None</td>\n",
       "    </tr>\n",
       "    <tr>\n",
       "      <th>239</th>\n",
       "      <td>738.203416</td>\n",
       "      <td>99</td>\n",
       "      <td>0.619111</td>\n",
       "      <td>3.000000</td>\n",
       "      <td>-0.856972</td>\n",
       "      <td>-0.515362</td>\n",
       "      <td>None</td>\n",
       "      <td>NaN</td>\n",
       "      <td>None</td>\n",
       "    </tr>\n",
       "    <tr>\n",
       "      <th>240</th>\n",
       "      <td>742.426552</td>\n",
       "      <td>99</td>\n",
       "      <td>3.000000</td>\n",
       "      <td>0.823556</td>\n",
       "      <td>-0.856972</td>\n",
       "      <td>-0.515362</td>\n",
       "      <td>None</td>\n",
       "      <td>NaN</td>\n",
       "      <td>None</td>\n",
       "    </tr>\n",
       "    <tr>\n",
       "      <th>241</th>\n",
       "      <td>744.879811</td>\n",
       "      <td>100</td>\n",
       "      <td>0.897624</td>\n",
       "      <td>-0.440761</td>\n",
       "      <td>0.116210</td>\n",
       "      <td>-0.993225</td>\n",
       "      <td>0</td>\n",
       "      <td>-0.456446</td>\n",
       "      <td>[-0.8569724761867877, -0.515362178529125]</td>\n",
       "    </tr>\n",
       "  </tbody>\n",
       "</table>\n",
       "<p>242 rows × 9 columns</p>\n",
       "</div>"
      ],
      "text/plain": [
       "           time    n         x         y        vx        vy scatterer_hit  \\\n",
       "0      0.000000    0 -2.000000 -1.000000  0.980581  0.196116          None   \n",
       "1      1.348670    1 -0.677520 -0.735504 -0.115115 -0.993352             0   \n",
       "2      3.628321    1 -0.939943  3.000000 -0.115115 -0.993352          None   \n",
       "3      9.668475    1 -1.635258  3.000000 -0.115115 -0.993352          None   \n",
       "4     15.038827    2 -2.253468 -2.334650  1.000000  0.000499             4   \n",
       "..          ...  ...       ...       ...       ...       ...           ...   \n",
       "237  733.025402   99 -0.943474 -0.331447 -0.856972 -0.515362             0   \n",
       "238  735.425160   99  3.000000 -1.568192 -0.856972 -0.515362          None   \n",
       "239  738.203416   99  0.619111  3.000000 -0.856972 -0.515362          None   \n",
       "240  742.426552   99  3.000000  0.823556 -0.856972 -0.515362          None   \n",
       "241  744.879811  100  0.897624 -0.440761  0.116210 -0.993225             0   \n",
       "\n",
       "        theta                             incidence_vector  \n",
       "0         NaN                                         None  \n",
       "1   -2.315182    [0.9805806756909202, 0.19611613513818404]  \n",
       "2         NaN                                         None  \n",
       "3         NaN                                         None  \n",
       "4    0.727962  [-0.11511539096736553, -0.9933521262686412]  \n",
       "..        ...                                          ...  \n",
       "237 -2.803755    [0.9910027854056858, 0.13384124669985853]  \n",
       "238       NaN                                         None  \n",
       "239       NaN                                         None  \n",
       "240       NaN                                         None  \n",
       "241 -0.456446    [-0.8569724761867877, -0.515362178529125]  \n",
       "\n",
       "[242 rows x 9 columns]"
      ]
     },
     "execution_count": 3,
     "metadata": {},
     "output_type": "execute_result"
    }
   ],
   "source": [
    "n = 100\n",
    "collisions = billiards.run_simulation(n)\n",
    "collisions"
   ]
  },
  {
   "cell_type": "code",
   "execution_count": 4,
   "metadata": {},
   "outputs": [
    {
     "name": "stderr",
     "output_type": "stream",
     "text": [
      "/Users/dviray/Documents/Coding/Billiards2.0/src/visualize.py:7: SettingWithCopyWarning: \n",
      "A value is trying to be set on a copy of a slice from a DataFrame.\n",
      "Try using .loc[row_indexer,col_indexer] = value instead\n",
      "\n",
      "See the caveats in the documentation: https://pandas.pydata.org/pandas-docs/stable/user_guide/indexing.html#returning-a-view-versus-a-copy\n",
      "  data['scatterer_hit'] = data['scatterer_hit'].astype(int)\n",
      "/Users/dviray/Documents/Coding/Billiards2.0/src/visualize.py:8: SettingWithCopyWarning: \n",
      "A value is trying to be set on a copy of a slice from a DataFrame.\n",
      "Try using .loc[row_indexer,col_indexer] = value instead\n",
      "\n",
      "See the caveats in the documentation: https://pandas.pydata.org/pandas-docs/stable/user_guide/indexing.html#returning-a-view-versus-a-copy\n",
      "  data['theta'] = data['theta'].astype(float)\n",
      "/Users/dviray/Documents/Coding/Billiards2.0/src/visualize.py:9: SettingWithCopyWarning: \n",
      "A value is trying to be set on a copy of a slice from a DataFrame.\n",
      "Try using .loc[row_indexer,col_indexer] = value instead\n",
      "\n",
      "See the caveats in the documentation: https://pandas.pydata.org/pandas-docs/stable/user_guide/indexing.html#returning-a-view-versus-a-copy\n",
      "  data['incidence_vector'] = data['incidence_vector'].apply(lambda x: np.arctan2(x[1], x[0]))\n"
     ]
    },
    {
     "data": {
      "image/png": "[encoded data removed]",
      "text/plain": [
       "<Figure size 3000x480 with 5 Axes>"
      ]
     },
     "metadata": {},
     "output_type": "display_data"
    }
   ],
   "source": [
    "billiards.plot_collisions()"
   ]
  },
  {
   "cell_type": "code",
   "execution_count": 5,
   "metadata": {},
   "outputs": [
    {
     "ename": "NameError",
     "evalue": "name 'collisions50' is not defined",
     "output_type": "error",
     "traceback": [
      "\u001b[0;31m---------------------------------------------------------------------------\u001b[0m",
      "\u001b[0;31mNameError\u001b[0m                                 Traceback (most recent call last)",
      "Cell \u001b[0;32mIn[5], line 9\u001b[0m\n\u001b[1;32m      6\u001b[0m ax\u001b[39m.\u001b[39mset_ylim(\u001b[39m-\u001b[39mtot_height\u001b[39m/\u001b[39m\u001b[39m2\u001b[39m, tot_height\u001b[39m/\u001b[39m\u001b[39m2\u001b[39m)\n\u001b[1;32m      8\u001b[0m \u001b[39m# Plot trajectory of particle\u001b[39;00m\n\u001b[0;32m----> 9\u001b[0m ax\u001b[39m.\u001b[39mplot(collisions50[\u001b[39m'\u001b[39m\u001b[39mx\u001b[39m\u001b[39m'\u001b[39m], collisions50[\u001b[39m'\u001b[39m\u001b[39my\u001b[39m\u001b[39m'\u001b[39m], \u001b[39m'\u001b[39m\u001b[39mr-\u001b[39m\u001b[39m'\u001b[39m)\n",
      "\u001b[0;31mNameError\u001b[0m: name 'collisions50' is not defined"
     ]
    },
    {
     "data": {
      "image/png": "[encoded data removed]",
      "text/plain": [
       "<Figure size 640x480 with 1 Axes>"
      ]
     },
     "metadata": {},
     "output_type": "display_data"
    }
   ],
   "source": [
    "import matplotlib.pyplot as plt\n",
    "\n",
    "fig, ax = plt.subplots()\n",
    "ax.set_aspect('equal')\n",
    "ax.set_xlim(-tot_width/2, tot_width/2)\n",
    "ax.set_ylim(-tot_height/2, tot_height/2)\n",
    "\n",
    "# Plot trajectory of particle\n",
    "ax.plot(collisions50['x'], collisions50['y'], 'r-')"
   ]
  },
  {
   "cell_type": "code",
   "execution_count": 29,
   "metadata": {},
   "outputs": [
    {
     "data": {
      "image/png": "[encoded data removed]",
      "text/plain": [
       "<Figure size 640x480 with 3 Axes>"
      ]
     },
     "metadata": {},
     "output_type": "display_data"
    }
   ],
   "source": [
    "x = np.array([1, 2, 3, 4, 5])\n",
    "y = np.array([1, 3, 1, 3, 1])\n",
    "label = np.array([1, 1, 1, 3, 2])\n",
    "\n",
    "fig, axs = plt.subplots(1, 3)\n",
    "\n",
    "for i in range(5):\n",
    "    axs[label[i]-1].scatter(x[i], y[i], c='red', s=5)\n",
    "\n",
    "for ax in axs:\n",
    "    ax.set_xlim(0, 6)\n",
    "    ax.set_ylim(0, 6)\n"
   ]
  },
  {
   "cell_type": "code",
   "execution_count": 10,
   "metadata": {},
   "outputs": [
    {
     "data": {
      "text/plain": [
       "45.0"
      ]
     },
     "execution_count": 10,
     "metadata": {},
     "output_type": "execute_result"
    }
   ],
   "source": [
    "np.arctan2(np.sqrt(2)/2, np.sqrt(2)/2) * 180 / np.pi"
   ]
  }
 ],
 "metadata": {
  "kernelspec": {
   "display_name": "Python 3",
   "language": "python",
   "name": "python3"
  },
  "language_info": {
   "codemirror_mode": {
    "name": "ipython",
    "version": 3
   },
   "file_extension": ".py",
   "mimetype": "text/x-python",
   "name": "python",
   "nbconvert_exporter": "python",
   "pygments_lexer": "ipython3",
   "version": "3.11.5"
  },
  "orig_nbformat": 4
 },
 "nbformat": 4,
 "nbformat_minor": 2
}
